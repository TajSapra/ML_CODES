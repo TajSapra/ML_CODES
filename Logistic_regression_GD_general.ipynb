{
 "metadata": {
  "language_info": {
   "codemirror_mode": {
    "name": "ipython",
    "version": 3
   },
   "file_extension": ".py",
   "mimetype": "text/x-python",
   "name": "python",
   "nbconvert_exporter": "python",
   "pygments_lexer": "ipython3",
   "version": 3
  },
  "orig_nbformat": 4
 },
 "nbformat": 4,
 "nbformat_minor": 2,
 "cells": [
  {
   "cell_type": "code",
   "execution_count": null,
   "metadata": {},
   "outputs": [],
   "source": [
    "import numpy as np\n",
    "from sklearn import datasets\n",
    "from sklearn.model_selection import train_test_split\n",
    "from math import exp\n",
    "from math import log\n",
    "def sigmoid(X, m):\n",
    "    M=len(X)\n",
    "    ans=0;\n",
    "    for i in range(M):\n",
    "        ans+=m[i]*X[i];\n",
    "    return 1.0/(1.0+exp(-ans))\n",
    "def step_gradient(x_data, y_data, learning_rate, m):\n",
    "    M=x_data.shape[0]\n",
    "    N=x_data.shape[1]\n",
    "    m_slope=np.zeros(N)\n",
    "    for i in range(M):\n",
    "        for j in range(N):\n",
    "            m_slope[j]+=(-1/M)*(y_data[i]-sigmoid(x_data[i], m))*x_data[i,j]\n",
    "    m-=m_slope*learning_rate\n",
    "    return m;\n",
    "def cost(X_train, Y_train, m):\n",
    "    cost=0\n",
    "    M=X_train.shape[0]\n",
    "    N=X_train.shape[1]\n",
    "    for i in range(M):\n",
    "        cost+=(-1/M)*(Y_train[i]*np.log(sigmoid(X_train[i], m)) +(1-Y_train[i])*(np.log(1-sigmoid(X_train[i], m))))\n",
    "    return cost\n",
    "def fit(X_train, Y_train):\n",
    "    X_train=np.append(X_train, np.ones(X_train.shape[0], dtype=int).reshape(X_train.shape[0], 1), axis=1)\n",
    "    num_iterations=100\n",
    "    learning_rate=0.000002\n",
    "    m=gd(X_train, Y_train, num_iterations, learning_rate)\n",
    "    return m\n",
    "def predict(X_train, X_test, Y_train):\n",
    "    m=fit(X_train, Y_train)\n",
    "    print(m)\n",
    "    y_pred=np.zeros(X_test.shape[0])\n",
    "#     print(y_pred)\n",
    "    for i in range(X_test.shape[0]):\n",
    "        if(sigmoid(X_test[i],m)>0.5):\n",
    "            y_pred[i]=1\n",
    "        else:\n",
    "            y_pred[i]=0\n",
    "    return y_pred;\n",
    "data=datasets.load_breast_cancer()\n",
    "X=data.data\n",
    "Y=data.target\n",
    "X_train, X_test, Y_train, Y_test=train_test_split(X,Y)\n",
    "diff=abs(Y_test-predict(X_train, X_test, Y_train))\n",
    "print(diff.sum(), diff.shape)"
   ]
  }
 ]
}