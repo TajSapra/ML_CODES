{
 "metadata": {
  "language_info": {
   "codemirror_mode": {
    "name": "ipython",
    "version": 3
   },
   "file_extension": ".py",
   "mimetype": "text/x-python",
   "name": "python",
   "nbconvert_exporter": "python",
   "pygments_lexer": "ipython3",
   "version": 3
  },
  "orig_nbformat": 4
 },
 "nbformat": 4,
 "nbformat_minor": 2,
 "cells": [
  {
   "cell_type": "code",
   "execution_count": null,
   "metadata": {},
   "outputs": [],
   "source": [
    "import numpy as np\n",
    "def step_updation(X, Y, m, learning_rate):\n",
    "    M=len(X)\n",
    "    N=len(X[0])\n",
    "    m_slope=np.zeros(N)\n",
    "    for i in range(M):\n",
    "        for j in range(N):\n",
    "            m_slope[j]+=(-2/M)*((Y[i]-(m*X[i]).sum())*X[i][j])\n",
    "    m=m-learning_rate*m_slope\n",
    "    return m\n",
    "def cost(X, Y, m):\n",
    "    M=X.shape[0]\n",
    "    N=X.shape[1]\n",
    "    cost=0\n",
    "    for i in range(M):\n",
    "        cost+=(1/M)*(Y[i]-(m*X[i]).sum())**2\n",
    "    return cost\n",
    "def gd(X, Y, num_iterations, learning_rate):\n",
    "    m=np.zeros(X.shape[1], dtype=int)\n",
    "    for i in range(num_iterations):\n",
    "        m=step_updation(X, Y, m, learning_rate)\n",
    "        print(i, \" cost: \" ,cost(X, Y, m))\n",
    "    return m;\n",
    "def run(data):\n",
    "    X=np.delete(data, data.shape[1]-1, 1)\n",
    "    Y=data[:,data.shape[1]-1]\n",
    "    X=np.append(X,np.ones(data.shape[0],dtype=int).reshape(data.shape[0],1),axis=1)\n",
    "    num_iterations=200\n",
    "    learning_rate=0.02\n",
    "    m=gd(X, Y, num_iterations, learning_rate)\n",
    "    return m;\n",
    "data=np.loadtxt('data5.csv', delimiter=',')\n",
    "print(run(data))"
   ]
  }
 ]
}