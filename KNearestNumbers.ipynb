{
 "metadata": {
  "language_info": {
   "codemirror_mode": {
    "name": "ipython",
    "version": 3
   },
   "file_extension": ".py",
   "mimetype": "text/x-python",
   "name": "python",
   "nbconvert_exporter": "python",
   "pygments_lexer": "ipython3",
   "version": "3.8.5"
  },
  "orig_nbformat": 4,
  "kernelspec": {
   "name": "python3",
   "display_name": "Python 3.8.5 64-bit ('base': conda)"
  },
  "interpreter": {
   "hash": "b3ba2566441a7c06988d0923437866b63cedc61552a5af99d1f4fb67d367b25f"
  }
 },
 "nbformat": 4,
 "nbformat_minor": 2,
 "cells": [
  {
   "cell_type": "code",
   "execution_count": null,
   "metadata": {},
   "outputs": [],
   "source": [
    "import numpy as np\n",
    "from sklearn import datasets\n",
    "from sklearn.model_selection import train_test_split\n",
    "from sklearn.metrics import accuracy_score\n",
    "dataset=datasets.load_breast_cancer()\n",
    "x, X, y, Y=train_test_split(dataset.data, dataset.target, test_size=0.2, random_state=0)\n",
    "def predict_one(x,y,X, k):\n",
    "    distances=[]\n",
    "    for i in range(x.shape[0]):\n",
    "        distance=((x[i,:]-X)**2).sum()\n",
    "        distances.append([distance,i])\n",
    "    distances=sorted(distances)\n",
    "    targets=[]\n",
    "    for i in range(k):\n",
    "        targets.append(y[distances[i][1]])\n",
    "    return np.bincount(targets).argmax()\n",
    "def predict(x,y,X,k):\n",
    "    predictions=np.zeros(X.shape[0])\n",
    "    for i in range(X.shape[0]):\n",
    "        predictions[i]=predict_one(x,y,X[i],k)\n",
    "    return predictions\n",
    "y_pred=predict(x,y,X,9)\n",
    "accuracy_score(Y, y_pred)"
   ]
  }
 ]
}