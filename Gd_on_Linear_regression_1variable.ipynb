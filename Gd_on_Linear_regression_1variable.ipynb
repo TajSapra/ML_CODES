{
 "metadata": {
  "language_info": {
   "codemirror_mode": {
    "name": "ipython",
    "version": 3
   },
   "file_extension": ".py",
   "mimetype": "text/x-python",
   "name": "python",
   "nbconvert_exporter": "python",
   "pygments_lexer": "ipython3",
   "version": 3
  },
  "orig_nbformat": 4
 },
 "nbformat": 4,
 "nbformat_minor": 2,
 "cells": [
  {
   "cell_type": "code",
   "execution_count": null,
   "metadata": {},
   "outputs": [],
   "source": [
    "import numpy as np\n",
    "from sklearn.model_selection import train_test_split\n",
    "def step_updation(X_train, Y_train, learning_rate , m ,c):\n",
    "    N=X_train.shape[0]\n",
    "    m_slope=0\n",
    "    c_slope=0\n",
    "    for i in range(N):\n",
    "        m_slope+=(-2/N)*(Y_train[i]-m*X_train[i]-c)*X_train[i]\n",
    "        c_slope+=(-2/N)*(Y_train[i]-m*X_train[i]-c)\n",
    "    return m-learning_rate*m_slope, c-learning_rate*c_slope\n",
    "def cost(X_train, Y_train,m,c):\n",
    "    total_cost=0\n",
    "    M=X_train.shape[0]\n",
    "    for i in range(M):\n",
    "        total_cost+=(1/M)*((Y_train[i]-m*X_train[i]-c)**2)\n",
    "    return total_cost\n",
    "def gd(X_train, Y_train, learning_rate, num_iterations):\n",
    "    m=0\n",
    "    c=0\n",
    "    for i in range(num_iterations):\n",
    "        m,c=step_updation(X_train, Y_train, learning_rate , m ,c)\n",
    "        print(i, \"Cost: \", cost(X_train, Y_train, m, c), m ,c)\n",
    "    return m,c\n",
    "def run(data):\n",
    "    X_train=data[:,0]\n",
    "    Y_train=data[:,1]\n",
    "    learning_rate=0.0003\n",
    "    num_iterations=1500\n",
    "    m,c=gd(X_train, Y_train, learning_rate, num_iterations)\n",
    "    print(m,c)\n",
    "data=np.loadtxt('data.csv', delimiter=',')\n",
    "run(data)"
   ]
  }
 ]
}