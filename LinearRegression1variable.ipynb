{
 "metadata": {
  "language_info": {
   "codemirror_mode": {
    "name": "ipython",
    "version": 3
   },
   "file_extension": ".py",
   "mimetype": "text/x-python",
   "name": "python",
   "nbconvert_exporter": "python",
   "pygments_lexer": "ipython3",
   "version": 3
  },
  "orig_nbformat": 4
 },
 "nbformat": 4,
 "nbformat_minor": 2,
 "cells": [
  {
   "cell_type": "code",
   "execution_count": null,
   "metadata": {},
   "outputs": [],
   "source": [
    "import numpy as np\n",
    "def fit(X_train,Y_train):\n",
    "    den=(X_train**2).mean()-X_train.mean()**2\n",
    "    num=(X_train*Y_train).mean()-X_train.mean()*Y_train.mean()\n",
    "    m=num/den;\n",
    "    c=Y_train.mean()-m*X_train.mean()\n",
    "    return m,c\n",
    "def score(Y_pred, Y_test):\n",
    "    u=0\n",
    "    v=0\n",
    "    for i in range(len(Y_test)):\n",
    "        u+=(Y_test[i]-Y_pred[i])**2\n",
    "        v+=(Y_test[i]-Y_test.mean())**2\n",
    "    return 1-(u/v)\n",
    "def cost(x,y,m,c):\n",
    "    return ((y-m*x-c)**2).mean()\n",
    "def predict(X_test, m, c):\n",
    "    return m*X_test+c\n",
    "def run(X_train, X_test, Y_train, Y_test):\n",
    "    m,c=fit(X_train,Y_train)\n",
    "    print(\"m: \", m)\n",
    "    print(\"c: \", c)\n",
    "    Y_pred=predict(X_test, m, c)\n",
    "    print(cost(X_test, Y_test, m, c))\n",
    "    print(score(Y_pred, Y_test))\n",
    "data=np.loadtxt('data.csv', delimiter=',')\n",
    "X=data[:,0]\n",
    "Y=data[:,1]\n",
    "from sklearn.model_selection import train_test_split\n",
    "X_train, X_test, Y_train, Y_test=train_test_split(X,Y)\n",
    "run(X_train, X_test, Y_train, Y_test)"
   ]
  }
 ]
}